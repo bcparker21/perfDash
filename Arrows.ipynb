{
 "cells": [
  {
   "cell_type": "code",
   "execution_count": 1,
   "metadata": {},
   "outputs": [],
   "source": [
    "import plotly.plotly as py\n",
    "import plotly.graph_objs as go\n",
    "import pandas as pd\n",
    "import matplotlib.pyplot as plt\n",
    "import matplotlib.gridspec as gridspec\n",
    "import datetime\n",
    "import numpy as np\n",
    "import os, sys\n",
    "import math\n",
    "from matplotlib import cm\n",
    "from matplotlib.patches import Circle,Wedge,Rectangle\n",
    "%matplotlib inline"
   ]
  },
  {
   "cell_type": "code",
   "execution_count": 2,
   "metadata": {},
   "outputs": [],
   "source": [
    "data=pd.read_excel(r\"N:\\Planning - New File Structure\\Performance\\RidershipAutomation.xlsx\")\n",
    "df=pd.DataFrame(data)"
   ]
  },
  {
   "cell_type": "code",
   "execution_count": 3,
   "metadata": {},
   "outputs": [],
   "source": [
    "routes=pd.read_csv(r\"N:\\Planning - New File Structure\\GIS\\Data\\GTFS\\VRT5_10_18\\routes.txt\")\n",
    "df=df.merge(routes,how='left',on='route_id')"
   ]
  },
  {
   "cell_type": "code",
   "execution_count": 4,
   "metadata": {},
   "outputs": [],
   "source": [
    "dropcols=['agency_id','route_short_name','route_long_name','route_desc','route_type','route_url','route_text_color']\n",
    "df.set_index(['Stat','Service','Route','Area','route_color','route_id'],inplace=True)\n",
    "df.drop(columns=dropcols,inplace=True)"
   ]
  },
  {
   "cell_type": "code",
   "execution_count": 5,
   "metadata": {},
   "outputs": [],
   "source": [
    "df.columns=pd.to_datetime(df.columns)"
   ]
  },
  {
   "cell_type": "code",
   "execution_count": 6,
   "metadata": {},
   "outputs": [],
   "source": [
    "UPT_FR_18=df.loc[['UPT','FR'],datetime.date(year=2017,month=10,day=1):datetime.date(year=2018,month=9,day=1)]\n",
    "UPT_FR_17=df.loc[['UPT','FR'],datetime.date(year=2016,month=10,day=1):datetime.date(year=2017,month=9,day=1)]"
   ]
  },
  {
   "cell_type": "code",
   "execution_count": 7,
   "metadata": {},
   "outputs": [],
   "source": [
    "UPT_FR_17_Total=UPT_FR_17.sum(axis=0).sum()\n",
    "UPT_FR_18_Total=UPT_FR_18.sum(axis=0).sum()"
   ]
  },
  {
   "cell_type": "code",
   "execution_count": 8,
   "metadata": {},
   "outputs": [
    {
     "data": {
      "text/plain": [
       "10"
      ]
     },
     "execution_count": 8,
     "metadata": {},
     "output_type": "execute_result"
    }
   ],
   "source": [
    "YearOverYearRidership=(UPT_FR_18_Total-UPT_FR_17_Total).round(-2)\n",
    "YearOverYearRidershipPct=int(((UPT_FR_18_Total/UPT_FR_17_Total)-1)*100)\n",
    "YearOverYearRidershipPct"
   ]
  },
  {
   "cell_type": "code",
   "execution_count": 9,
   "metadata": {},
   "outputs": [],
   "source": [
    "ring_data=pd.DataFrame([UPT_FR_18_Total,UPT_FR_17_Total]).T\n",
    "ring_data.columns=['2018','2017']"
   ]
  },
  {
   "cell_type": "code",
   "execution_count": 10,
   "metadata": {},
   "outputs": [],
   "source": [
    "by_route18=df.loc[:,datetime.date(year=2017,month=10,day=1):datetime.date(year=2018,month=9,day=1)].groupby(['Route','route_color']).sum()\n",
    "by_route17=df.loc[:,datetime.date(year=2016,month=10,day=1):datetime.date(year=2017,month=9,day=1)].groupby(['Route','route_color']).sum()\n",
    "\n",
    "by_route18=by_route18.sum(axis=1)\n",
    "by_route17=by_route17.sum(axis=1)\n",
    "\n",
    "ring_data_routes=pd.DataFrame([by_route18,by_route17]).T\n",
    "ring_data_routes.columns=['2018','2017']"
   ]
  },
  {
   "cell_type": "code",
   "execution_count": 11,
   "metadata": {},
   "outputs": [],
   "source": [
    "ring_data_routes['PercentChange']=ring_data_routes['2018']/ring_data_routes['2017']\n",
    "ring_data_routes['Change']=ring_data_routes['2018']-ring_data_routes['2017']"
   ]
  },
  {
   "cell_type": "code",
   "execution_count": 12,
   "metadata": {},
   "outputs": [
    {
     "name": "stderr",
     "output_type": "stream",
     "text": [
      "C:\\Users\\bparker\\AppData\\Local\\conda\\conda\\envs\\mappingPy3\\lib\\site-packages\\pandas\\core\\algorithms.py:1036: RuntimeWarning:\n",
      "\n",
      "invalid value encountered in double_scalars\n",
      "\n"
     ]
    }
   ],
   "source": [
    "ring_data_routes['Arrow']=pd.qcut(ring_data_routes['PercentChange'],6,labels=[1,2,3,4,5,6])\n",
    "ring_data_routes['Size']=pd.qcut(ring_data_routes['Change'],6,labels=[1,2,3,4,5,6])\n",
    "ring_data_routes['Arrow']=ring_data_routes.Arrow.astype(float)\n",
    "ring_data_routes['Size']=ring_data_routes.Size.astype(int)"
   ]
  },
  {
   "cell_type": "code",
   "execution_count": 13,
   "metadata": {},
   "outputs": [
    {
     "name": "stderr",
     "output_type": "stream",
     "text": [
      "C:\\Users\\bparker\\AppData\\Local\\conda\\conda\\envs\\mappingPy3\\lib\\site-packages\\ipykernel_launcher.py:2: SettingWithCopyWarning:\n",
      "\n",
      "\n",
      "A value is trying to be set on a copy of a slice from a DataFrame.\n",
      "Try using .loc[row_indexer,col_indexer] = value instead\n",
      "\n",
      "See the caveats in the documentation: http://pandas.pydata.org/pandas-docs/stable/indexing.html#indexing-view-versus-copy\n",
      "\n",
      "C:\\Users\\bparker\\AppData\\Local\\conda\\conda\\envs\\mappingPy3\\lib\\site-packages\\ipykernel_launcher.py:3: SettingWithCopyWarning:\n",
      "\n",
      "\n",
      "A value is trying to be set on a copy of a slice from a DataFrame.\n",
      "Try using .loc[row_indexer,col_indexer] = value instead\n",
      "\n",
      "See the caveats in the documentation: http://pandas.pydata.org/pandas-docs/stable/indexing.html#indexing-view-versus-copy\n",
      "\n",
      "C:\\Users\\bparker\\AppData\\Local\\conda\\conda\\envs\\mappingPy3\\lib\\site-packages\\ipykernel_launcher.py:5: SettingWithCopyWarning:\n",
      "\n",
      "\n",
      "A value is trying to be set on a copy of a slice from a DataFrame.\n",
      "Try using .loc[row_indexer,col_indexer] = value instead\n",
      "\n",
      "See the caveats in the documentation: http://pandas.pydata.org/pandas-docs/stable/indexing.html#indexing-view-versus-copy\n",
      "\n",
      "C:\\Users\\bparker\\AppData\\Local\\conda\\conda\\envs\\mappingPy3\\lib\\site-packages\\ipykernel_launcher.py:6: SettingWithCopyWarning:\n",
      "\n",
      "\n",
      "A value is trying to be set on a copy of a slice from a DataFrame.\n",
      "Try using .loc[row_indexer,col_indexer] = value instead\n",
      "\n",
      "See the caveats in the documentation: http://pandas.pydata.org/pandas-docs/stable/indexing.html#indexing-view-versus-copy\n",
      "\n"
     ]
    },
    {
     "data": {
      "text/html": [
       "<div>\n",
       "<style scoped>\n",
       "    .dataframe tbody tr th:only-of-type {\n",
       "        vertical-align: middle;\n",
       "    }\n",
       "\n",
       "    .dataframe tbody tr th {\n",
       "        vertical-align: top;\n",
       "    }\n",
       "\n",
       "    .dataframe thead th {\n",
       "        text-align: right;\n",
       "    }\n",
       "</style>\n",
       "<table border=\"1\" class=\"dataframe\">\n",
       "  <thead>\n",
       "    <tr style=\"text-align: right;\">\n",
       "      <th></th>\n",
       "      <th></th>\n",
       "      <th>2018</th>\n",
       "      <th>2017</th>\n",
       "      <th>PercentChange</th>\n",
       "      <th>Change</th>\n",
       "      <th>Arrow</th>\n",
       "      <th>Size</th>\n",
       "    </tr>\n",
       "    <tr>\n",
       "      <th>Route</th>\n",
       "      <th>route_color</th>\n",
       "      <th></th>\n",
       "      <th></th>\n",
       "      <th></th>\n",
       "      <th></th>\n",
       "      <th></th>\n",
       "      <th></th>\n",
       "    </tr>\n",
       "  </thead>\n",
       "  <tbody>\n",
       "    <tr>\n",
       "      <th>1 Parkcenter</th>\n",
       "      <th>#ffcd00</th>\n",
       "      <td>73101.0</td>\n",
       "      <td>73017.0</td>\n",
       "      <td>1.001150</td>\n",
       "      <td>84.0</td>\n",
       "      <td>0</td>\n",
       "      <td>0.25</td>\n",
       "    </tr>\n",
       "    <tr>\n",
       "      <th>10X</th>\n",
       "      <th>#fbb161</th>\n",
       "      <td>2256.0</td>\n",
       "      <td>1835.0</td>\n",
       "      <td>1.229428</td>\n",
       "      <td>421.0</td>\n",
       "      <td>45</td>\n",
       "      <td>0.25</td>\n",
       "    </tr>\n",
       "    <tr>\n",
       "      <th>12 Maple Grove</th>\n",
       "      <th>#b6bd00</th>\n",
       "      <td>40426.0</td>\n",
       "      <td>30873.0</td>\n",
       "      <td>1.309429</td>\n",
       "      <td>9553.0</td>\n",
       "      <td>45</td>\n",
       "      <td>0.50</td>\n",
       "    </tr>\n",
       "    <tr>\n",
       "      <th>2 Broadway</th>\n",
       "      <th>#685bc7</th>\n",
       "      <td>63058.0</td>\n",
       "      <td>60109.0</td>\n",
       "      <td>1.049061</td>\n",
       "      <td>2949.0</td>\n",
       "      <td>0</td>\n",
       "      <td>0.25</td>\n",
       "    </tr>\n",
       "    <tr>\n",
       "      <th>28 Overland Victory</th>\n",
       "      <th>#51284f</th>\n",
       "      <td>38861.0</td>\n",
       "      <td>38220.0</td>\n",
       "      <td>1.016771</td>\n",
       "      <td>641.0</td>\n",
       "      <td>0</td>\n",
       "      <td>0.25</td>\n",
       "    </tr>\n",
       "  </tbody>\n",
       "</table>\n",
       "</div>"
      ],
      "text/plain": [
       "                                    2018     2017  PercentChange  Change  \\\n",
       "Route               route_color                                            \n",
       "1 Parkcenter        #ffcd00      73101.0  73017.0       1.001150    84.0   \n",
       "10X                 #fbb161       2256.0   1835.0       1.229428   421.0   \n",
       "12 Maple Grove      #b6bd00      40426.0  30873.0       1.309429  9553.0   \n",
       "2 Broadway          #685bc7      63058.0  60109.0       1.049061  2949.0   \n",
       "28 Overland Victory #51284f      38861.0  38220.0       1.016771   641.0   \n",
       "\n",
       "                                 Arrow  Size  \n",
       "Route               route_color               \n",
       "1 Parkcenter        #ffcd00          0  0.25  \n",
       "10X                 #fbb161         45  0.25  \n",
       "12 Maple Grove      #b6bd00         45  0.50  \n",
       "2 Broadway          #685bc7          0  0.25  \n",
       "28 Overland Victory #51284f          0  0.25  "
      ]
     },
     "execution_count": 13,
     "metadata": {},
     "output_type": "execute_result"
    }
   ],
   "source": [
    "positive=ring_data_routes[ring_data_routes.Change>0]\n",
    "positive['Arrow']=pd.qcut(positive['PercentChange'],3,labels=[0,45,90])\n",
    "positive['Size']=pd.qcut(positive['Change'],3,[.25,.5,.75])\n",
    "negative=ring_data_routes[ring_data_routes.Change<0]\n",
    "negative['Arrow']=pd.qcut(negative['PercentChange'],3,labels=[-90,-45,0])\n",
    "negative['Size']=pd.qcut(negative['Change'],3,labels=[.25,.5,.75])\n",
    "negative\n",
    "ring_data_routes=pd.concat([positive,negative])\n",
    "ring_data_routes.head()"
   ]
  },
  {
   "cell_type": "code",
   "execution_count": 14,
   "metadata": {
    "scrolled": false
   },
   "outputs": [],
   "source": [
    "arrow=ring_data_routes.iloc[:,4]\n",
    "size=ring_data_routes.iloc[:,5]\n",
    "needs=pd.DataFrame([arrow,size]).T"
   ]
  },
  {
   "cell_type": "code",
   "execution_count": 15,
   "metadata": {},
   "outputs": [],
   "source": [
    "needs.Arrow=needs.Arrow.map(float)\n",
    "needs.Size=needs.Size.map(float)"
   ]
  },
  {
   "cell_type": "code",
   "execution_count": 16,
   "metadata": {},
   "outputs": [],
   "source": [
    "ring_data_routes.reset_index(inplace=True)"
   ]
  },
  {
   "cell_type": "code",
   "execution_count": 26,
   "metadata": {
    "scrolled": false
   },
   "outputs": [],
   "source": [
    "def arrowdrawer(df,figsize,fname=False):\n",
    "    fig=plt.figure(figsize=figsize)\n",
    "    for i, (name,row) in enumerate(df.iterrows()):\n",
    "        ax=plt.subplot(10,4,i+1)\n",
    "        ax.set_title(row['Route'])\n",
    "        x0,y0=1,1\n",
    "        radius=row['Size']\n",
    "        angle=row['Arrow']\n",
    "        angle_rad = angle * math.pi / 180  # degrees to radians\n",
    "        head_length=.025*(10*row['Size'])\n",
    "        ax.arrow(x0,y0,\n",
    "                (radius)*math.cos(angle_rad),\n",
    "                (radius)*math.sin(angle_rad),\n",
    "                head_width=head_length,head_length=head_length,color=row['route_color'],width=head_length/2)\n",
    "        ax.add_patch(Circle((x0,y0), radius=head_length/4,color=row['route_color']))\n",
    "        ax.table(cellText=round(row['PercentChange']))\n",
    "        plt.axis([0,2,0,2])\n",
    "        plt.axis('off')\n",
    "    \n"
   ]
  },
  {
   "cell_type": "code",
   "execution_count": 27,
   "metadata": {},
   "outputs": [
    {
     "ename": "TypeError",
     "evalue": "object of type 'int' has no len()",
     "output_type": "error",
     "traceback": [
      "\u001b[1;31m---------------------------------------------------------------------------\u001b[0m",
      "\u001b[1;31mTypeError\u001b[0m                                 Traceback (most recent call last)",
      "\u001b[1;32m<ipython-input-27-749b088e7000>\u001b[0m in \u001b[0;36m<module>\u001b[1;34m\u001b[0m\n\u001b[1;32m----> 1\u001b[1;33m \u001b[0marrowdrawer\u001b[0m\u001b[1;33m(\u001b[0m\u001b[0mring_data_routes\u001b[0m\u001b[1;33m,\u001b[0m\u001b[0mfigsize\u001b[0m\u001b[1;33m=\u001b[0m\u001b[1;33m(\u001b[0m\u001b[1;36m20\u001b[0m\u001b[1;33m,\u001b[0m\u001b[1;36m20\u001b[0m\u001b[1;33m)\u001b[0m\u001b[1;33m)\u001b[0m\u001b[1;33m\u001b[0m\u001b[0m\n\u001b[0m",
      "\u001b[1;32m<ipython-input-26-0da290f069db>\u001b[0m in \u001b[0;36marrowdrawer\u001b[1;34m(df, figsize, fname)\u001b[0m\n\u001b[0;32m     14\u001b[0m                 head_width=head_length,head_length=head_length,color=row['route_color'],width=head_length/2)\n\u001b[0;32m     15\u001b[0m         \u001b[0max\u001b[0m\u001b[1;33m.\u001b[0m\u001b[0madd_patch\u001b[0m\u001b[1;33m(\u001b[0m\u001b[0mCircle\u001b[0m\u001b[1;33m(\u001b[0m\u001b[1;33m(\u001b[0m\u001b[0mx0\u001b[0m\u001b[1;33m,\u001b[0m\u001b[0my0\u001b[0m\u001b[1;33m)\u001b[0m\u001b[1;33m,\u001b[0m \u001b[0mradius\u001b[0m\u001b[1;33m=\u001b[0m\u001b[0mhead_length\u001b[0m\u001b[1;33m/\u001b[0m\u001b[1;36m4\u001b[0m\u001b[1;33m,\u001b[0m\u001b[0mcolor\u001b[0m\u001b[1;33m=\u001b[0m\u001b[0mrow\u001b[0m\u001b[1;33m[\u001b[0m\u001b[1;34m'route_color'\u001b[0m\u001b[1;33m]\u001b[0m\u001b[1;33m)\u001b[0m\u001b[1;33m)\u001b[0m\u001b[1;33m\u001b[0m\u001b[0m\n\u001b[1;32m---> 16\u001b[1;33m         \u001b[0max\u001b[0m\u001b[1;33m.\u001b[0m\u001b[0mtable\u001b[0m\u001b[1;33m(\u001b[0m\u001b[0mcellText\u001b[0m\u001b[1;33m=\u001b[0m\u001b[0mround\u001b[0m\u001b[1;33m(\u001b[0m\u001b[0mrow\u001b[0m\u001b[1;33m[\u001b[0m\u001b[1;34m'PercentChange'\u001b[0m\u001b[1;33m]\u001b[0m\u001b[1;33m)\u001b[0m\u001b[1;33m)\u001b[0m\u001b[1;33m\u001b[0m\u001b[0m\n\u001b[0m\u001b[0;32m     17\u001b[0m         \u001b[0mplt\u001b[0m\u001b[1;33m.\u001b[0m\u001b[0maxis\u001b[0m\u001b[1;33m(\u001b[0m\u001b[1;33m[\u001b[0m\u001b[1;36m0\u001b[0m\u001b[1;33m,\u001b[0m\u001b[1;36m2\u001b[0m\u001b[1;33m,\u001b[0m\u001b[1;36m0\u001b[0m\u001b[1;33m,\u001b[0m\u001b[1;36m2\u001b[0m\u001b[1;33m]\u001b[0m\u001b[1;33m)\u001b[0m\u001b[1;33m\u001b[0m\u001b[0m\n\u001b[0;32m     18\u001b[0m         \u001b[0mplt\u001b[0m\u001b[1;33m.\u001b[0m\u001b[0maxis\u001b[0m\u001b[1;33m(\u001b[0m\u001b[1;34m'off'\u001b[0m\u001b[1;33m)\u001b[0m\u001b[1;33m\u001b[0m\u001b[0m\n",
      "\u001b[1;32m~\\AppData\\Local\\conda\\conda\\envs\\mappingPy3\\lib\\site-packages\\matplotlib\\axes\\_axes.py\u001b[0m in \u001b[0;36mtable\u001b[1;34m(self, **kwargs)\u001b[0m\n\u001b[0;32m   6213\u001b[0m         \u001b[1;33m%\u001b[0m\u001b[1;33m(\u001b[0m\u001b[0mTable\u001b[0m\u001b[1;33m)\u001b[0m\u001b[0ms\u001b[0m\u001b[1;33m\u001b[0m\u001b[0m\n\u001b[0;32m   6214\u001b[0m         \"\"\"\n\u001b[1;32m-> 6215\u001b[1;33m         \u001b[1;32mreturn\u001b[0m \u001b[0mmtable\u001b[0m\u001b[1;33m.\u001b[0m\u001b[0mtable\u001b[0m\u001b[1;33m(\u001b[0m\u001b[0mself\u001b[0m\u001b[1;33m,\u001b[0m \u001b[1;33m**\u001b[0m\u001b[0mkwargs\u001b[0m\u001b[1;33m)\u001b[0m\u001b[1;33m\u001b[0m\u001b[0m\n\u001b[0m\u001b[0;32m   6216\u001b[0m \u001b[1;33m\u001b[0m\u001b[0m\n\u001b[0;32m   6217\u001b[0m     \u001b[1;31m#### Data analysis\u001b[0m\u001b[1;33m\u001b[0m\u001b[1;33m\u001b[0m\u001b[0m\n",
      "\u001b[1;32m~\\AppData\\Local\\conda\\conda\\envs\\mappingPy3\\lib\\site-packages\\matplotlib\\table.py\u001b[0m in \u001b[0;36mtable\u001b[1;34m(ax, cellText, cellColours, cellLoc, colWidths, rowLabels, rowColours, rowLoc, colLabels, colColours, colLoc, loc, bbox, edges, **kwargs)\u001b[0m\n\u001b[0;32m    615\u001b[0m         \u001b[0mcellText\u001b[0m \u001b[1;33m=\u001b[0m \u001b[1;33m[\u001b[0m\u001b[1;33m[\u001b[0m\u001b[1;34m''\u001b[0m\u001b[1;33m]\u001b[0m \u001b[1;33m*\u001b[0m \u001b[0mcols\u001b[0m\u001b[1;33m]\u001b[0m \u001b[1;33m*\u001b[0m \u001b[0mrows\u001b[0m\u001b[1;33m\u001b[0m\u001b[0m\n\u001b[0;32m    616\u001b[0m \u001b[1;33m\u001b[0m\u001b[0m\n\u001b[1;32m--> 617\u001b[1;33m     \u001b[0mrows\u001b[0m \u001b[1;33m=\u001b[0m \u001b[0mlen\u001b[0m\u001b[1;33m(\u001b[0m\u001b[0mcellText\u001b[0m\u001b[1;33m)\u001b[0m\u001b[1;33m\u001b[0m\u001b[0m\n\u001b[0m\u001b[0;32m    618\u001b[0m     \u001b[0mcols\u001b[0m \u001b[1;33m=\u001b[0m \u001b[0mlen\u001b[0m\u001b[1;33m(\u001b[0m\u001b[0mcellText\u001b[0m\u001b[1;33m[\u001b[0m\u001b[1;36m0\u001b[0m\u001b[1;33m]\u001b[0m\u001b[1;33m)\u001b[0m\u001b[1;33m\u001b[0m\u001b[0m\n\u001b[0;32m    619\u001b[0m     \u001b[1;32mfor\u001b[0m \u001b[0mrow\u001b[0m \u001b[1;32min\u001b[0m \u001b[0mcellText\u001b[0m\u001b[1;33m:\u001b[0m\u001b[1;33m\u001b[0m\u001b[0m\n",
      "\u001b[1;31mTypeError\u001b[0m: object of type 'int' has no len()"
     ]
    },
    {
     "data": {
      "image/png": "[encoded data removed]",
      "text/plain": [
       "<Figure size 1440x1440 with 1 Axes>"
      ]
     },
     "metadata": {
      "needs_background": "light"
     },
     "output_type": "display_data"
    }
   ],
   "source": [
    "arrowdrawer(ring_data_routes,figsize=(20,20))"
   ]
  },
  {
   "cell_type": "code",
   "execution_count": null,
   "metadata": {},
   "outputs": [],
   "source": []
  }
 ],
 "metadata": {
  "kernelspec": {
   "display_name": "Python 3",
   "language": "python",
   "name": "python3"
  },
  "language_info": {
   "codemirror_mode": {
    "name": "ipython",
    "version": 3
   },
   "file_extension": ".py",
   "mimetype": "text/x-python",
   "name": "python",
   "nbconvert_exporter": "python",
   "pygments_lexer": "ipython3",
   "version": "3.7.0"
  }
 },
 "nbformat": 4,
 "nbformat_minor": 2
}
