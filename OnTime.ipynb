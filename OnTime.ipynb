{
 "cells": [
  {
   "cell_type": "code",
   "execution_count": 1,
   "metadata": {},
   "outputs": [],
   "source": [
    "import matplotlib.pyplot as plt\n",
    "import pandas as pd\n",
    "import geopandas as gpd\n",
    "import re\n",
    "from bokeh.plotting import figure, output_file, show\n",
    "%matplotlib inline"
   ]
  },
  {
   "cell_type": "code",
   "execution_count": 2,
   "metadata": {},
   "outputs": [],
   "source": [
    "OTP_data=pd.read_csv(r\"N:\\Planning - New File Structure\\Performance\\OTP_FY18.csv\")\n",
    "OTP_data=pd.DataFrame(OTP_data)"
   ]
  },
  {
   "cell_type": "code",
   "execution_count": 3,
   "metadata": {
    "scrolled": true
   },
   "outputs": [],
   "source": [
    "OTP_data.dropna(axis=1,how='all',inplace=True)"
   ]
  },
  {
   "cell_type": "code",
   "execution_count": 4,
   "metadata": {},
   "outputs": [],
   "source": [
    "OTP_data.drop(['MinutesEarly','MinutesLate','Group1Type','Group1','Group2Type','Group3Type','Group2','Group3','EarlyStop','LateStop','EarlyThreshold','LateThreshold','AgencyDescription'],axis=1,inplace=True)"
   ]
  },
  {
   "cell_type": "code",
   "execution_count": 5,
   "metadata": {
    "scrolled": true
   },
   "outputs": [
    {
     "data": {
      "text/html": [
       "<div>\n",
       "<style scoped>\n",
       "    .dataframe tbody tr th:only-of-type {\n",
       "        vertical-align: middle;\n",
       "    }\n",
       "\n",
       "    .dataframe tbody tr th {\n",
       "        vertical-align: top;\n",
       "    }\n",
       "\n",
       "    .dataframe thead th {\n",
       "        text-align: right;\n",
       "    }\n",
       "</style>\n",
       "<table border=\"1\" class=\"dataframe\">\n",
       "  <thead>\n",
       "    <tr style=\"text-align: right;\">\n",
       "      <th></th>\n",
       "      <th>MasterRouteName</th>\n",
       "      <th>TripName</th>\n",
       "      <th>StopName</th>\n",
       "      <th>DriverName</th>\n",
       "      <th>TripDate</th>\n",
       "      <th>ScheduledTripStart</th>\n",
       "      <th>ScheduledTripEnd</th>\n",
       "      <th>StopOrder</th>\n",
       "      <th>ScheduledStopTime</th>\n",
       "      <th>ArriveTime</th>\n",
       "      <th>DepartTime</th>\n",
       "    </tr>\n",
       "  </thead>\n",
       "  <tbody>\n",
       "    <tr>\n",
       "      <th>0</th>\n",
       "      <td>Route 10 Hill Road</td>\n",
       "      <td>R10_06:45_Weekday_70582</td>\n",
       "      <td>Gary &amp; Bunch</td>\n",
       "      <td>BRIAN FR BRESHEARS</td>\n",
       "      <td>2/14/2018 12:00:00 AM</td>\n",
       "      <td>2/14/2018 6:45:00 AM</td>\n",
       "      <td>2/14/2018 7:11:00 AM</td>\n",
       "      <td>39</td>\n",
       "      <td>2/14/2018 7:11:00 AM</td>\n",
       "      <td>2/14/2018 7:11:45 AM</td>\n",
       "      <td>2/14/2018 7:11:45 AM</td>\n",
       "    </tr>\n",
       "    <tr>\n",
       "      <th>1</th>\n",
       "      <td>Route 10 Hill Road</td>\n",
       "      <td>R10_08:00_Weekday_70587</td>\n",
       "      <td>Gary &amp; Bunch</td>\n",
       "      <td>BRIAN FR BRESHEARS</td>\n",
       "      <td>2/14/2018 12:00:00 AM</td>\n",
       "      <td>2/14/2018 8:00:01 AM</td>\n",
       "      <td>2/14/2018 8:40:00 AM</td>\n",
       "      <td>1</td>\n",
       "      <td>2/14/2018 8:00:01 AM</td>\n",
       "      <td>2/14/2018 8:08:39 AM</td>\n",
       "      <td>2/14/2018 8:09:16 AM</td>\n",
       "    </tr>\n",
       "    <tr>\n",
       "      <th>2</th>\n",
       "      <td>Route 10 Hill Road</td>\n",
       "      <td>R10_08:00_Weekday_70587</td>\n",
       "      <td>Tobi &amp; Pierce Park</td>\n",
       "      <td>BRIAN FR BRESHEARS</td>\n",
       "      <td>2/14/2018 12:00:00 AM</td>\n",
       "      <td>2/14/2018 8:00:01 AM</td>\n",
       "      <td>2/14/2018 8:40:00 AM</td>\n",
       "      <td>5</td>\n",
       "      <td>2/14/2018 8:07:00 AM</td>\n",
       "      <td>2/14/2018 8:13:28 AM</td>\n",
       "      <td>2/14/2018 8:14:14 AM</td>\n",
       "    </tr>\n",
       "    <tr>\n",
       "      <th>3</th>\n",
       "      <td>Route 10 Hill Road</td>\n",
       "      <td>R10_08:00_Weekday_70587</td>\n",
       "      <td>Hill &amp; Collister</td>\n",
       "      <td>BRIAN FR BRESHEARS</td>\n",
       "      <td>2/14/2018 12:00:00 AM</td>\n",
       "      <td>2/14/2018 8:00:01 AM</td>\n",
       "      <td>2/14/2018 8:40:00 AM</td>\n",
       "      <td>12</td>\n",
       "      <td>2/14/2018 8:14:00 AM</td>\n",
       "      <td>2/14/2018 8:17:22 AM</td>\n",
       "      <td>2/14/2018 8:17:57 AM</td>\n",
       "    </tr>\n",
       "    <tr>\n",
       "      <th>4</th>\n",
       "      <td>Route 10 Hill Road</td>\n",
       "      <td>R10_08:00_Weekday_70587</td>\n",
       "      <td>Taft &amp; 28th</td>\n",
       "      <td>BRIAN FR BRESHEARS</td>\n",
       "      <td>2/14/2018 12:00:00 AM</td>\n",
       "      <td>2/14/2018 8:00:01 AM</td>\n",
       "      <td>2/14/2018 8:40:00 AM</td>\n",
       "      <td>23</td>\n",
       "      <td>2/14/2018 8:21:00 AM</td>\n",
       "      <td>2/14/2018 8:25:12 AM</td>\n",
       "      <td>2/14/2018 8:25:45 AM</td>\n",
       "    </tr>\n",
       "  </tbody>\n",
       "</table>\n",
       "</div>"
      ],
      "text/plain": [
       "      MasterRouteName                 TripName            StopName  \\\n",
       "0  Route 10 Hill Road  R10_06:45_Weekday_70582        Gary & Bunch   \n",
       "1  Route 10 Hill Road  R10_08:00_Weekday_70587        Gary & Bunch   \n",
       "2  Route 10 Hill Road  R10_08:00_Weekday_70587  Tobi & Pierce Park   \n",
       "3  Route 10 Hill Road  R10_08:00_Weekday_70587    Hill & Collister   \n",
       "4  Route 10 Hill Road  R10_08:00_Weekday_70587         Taft & 28th   \n",
       "\n",
       "           DriverName               TripDate    ScheduledTripStart  \\\n",
       "0  BRIAN FR BRESHEARS  2/14/2018 12:00:00 AM  2/14/2018 6:45:00 AM   \n",
       "1  BRIAN FR BRESHEARS  2/14/2018 12:00:00 AM  2/14/2018 8:00:01 AM   \n",
       "2  BRIAN FR BRESHEARS  2/14/2018 12:00:00 AM  2/14/2018 8:00:01 AM   \n",
       "3  BRIAN FR BRESHEARS  2/14/2018 12:00:00 AM  2/14/2018 8:00:01 AM   \n",
       "4  BRIAN FR BRESHEARS  2/14/2018 12:00:00 AM  2/14/2018 8:00:01 AM   \n",
       "\n",
       "       ScheduledTripEnd  StopOrder     ScheduledStopTime  \\\n",
       "0  2/14/2018 7:11:00 AM         39  2/14/2018 7:11:00 AM   \n",
       "1  2/14/2018 8:40:00 AM          1  2/14/2018 8:00:01 AM   \n",
       "2  2/14/2018 8:40:00 AM          5  2/14/2018 8:07:00 AM   \n",
       "3  2/14/2018 8:40:00 AM         12  2/14/2018 8:14:00 AM   \n",
       "4  2/14/2018 8:40:00 AM         23  2/14/2018 8:21:00 AM   \n",
       "\n",
       "             ArriveTime            DepartTime  \n",
       "0  2/14/2018 7:11:45 AM  2/14/2018 7:11:45 AM  \n",
       "1  2/14/2018 8:08:39 AM  2/14/2018 8:09:16 AM  \n",
       "2  2/14/2018 8:13:28 AM  2/14/2018 8:14:14 AM  \n",
       "3  2/14/2018 8:17:22 AM  2/14/2018 8:17:57 AM  \n",
       "4  2/14/2018 8:25:12 AM  2/14/2018 8:25:45 AM  "
      ]
     },
     "execution_count": 5,
     "metadata": {},
     "output_type": "execute_result"
    }
   ],
   "source": [
    "OTP_data.head()"
   ]
  },
  {
   "cell_type": "code",
   "execution_count": null,
   "metadata": {},
   "outputs": [],
   "source": [
    "OTP_data['TripDate']=pd.to_datetime(OTP_data['TripDate'])\n",
    "OTP_data['ScheduledTripStart']=pd.to_datetime(OTP_data['ScheduledTripStart'])\n",
    "OTP_data['ScheduledTripEnd']=pd.to_datetime(OTP_data['ScheduledTripEnd'])\n",
    "OTP_data['ScheduledStopTime']=pd.to_datetime(OTP_data['ScheduledStopTime'])\n",
    "OTP_data['ArriveTime']=pd.to_datetime(OTP_data['ArriveTime'])\n",
    "OTP_data['DepartTime']=pd.to_datetime(OTP_data['DepartTime'])"
   ]
  },
  {
   "cell_type": "code",
   "execution_count": null,
   "metadata": {},
   "outputs": [],
   "source": [
    "OTP_data.dtypes"
   ]
  },
  {
   "cell_type": "code",
   "execution_count": null,
   "metadata": {},
   "outputs": [],
   "source": []
  }
 ],
 "metadata": {
  "kernelspec": {
   "display_name": "Python 2",
   "language": "python",
   "name": "python2"
  },
  "language_info": {
   "codemirror_mode": {
    "name": "ipython",
    "version": 2
   },
   "file_extension": ".py",
   "mimetype": "text/x-python",
   "name": "python",
   "nbconvert_exporter": "python",
   "pygments_lexer": "ipython2",
   "version": "2.7.15"
  }
 },
 "nbformat": 4,
 "nbformat_minor": 2
}
